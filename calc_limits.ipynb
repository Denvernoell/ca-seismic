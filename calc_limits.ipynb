{
 "cells": [
  {
   "cell_type": "code",
   "execution_count": null,
   "id": "2901628e",
   "metadata": {},
   "outputs": [
    {
     "data": {
      "text/latex": [
       "$\\displaystyle 0$"
      ],
      "text/plain": [
       "0"
      ]
     },
     "execution_count": 51,
     "metadata": {},
     "output_type": "execute_result"
    }
   ],
   "source": [
    "import sympy as sp\n",
    "from sympy import (\n",
    "    symbols,\n",
    "    Equality,\n",
    "    Function,\n",
    "    limit,\n",
    "    simplify,\n",
    "    Eq,\n",
    "    sin,\n",
    "    tan,\n",
    "    pi,\n",
    "    piecewise_exclusive,\n",
    "    exp,\n",
    ")\n",
    "\n",
    "x, y, k = symbols(\"x y k\")\n",
    "\n",
    "e = -(4 * x * y**2) / (3 * x**2 + 3 * y**2)\n",
    "limit(e, x, 0, \"+\")"
   ]
  },
  {
   "cell_type": "code",
   "execution_count": 61,
   "id": "c8fdf76d",
   "metadata": {},
   "outputs": [
    {
     "name": "stdout",
     "output_type": "stream",
     "text": [
      "3*x*(k*x)**1.0/(x**2 - (k*x)**2.0) + 2\n"
     ]
    },
    {
     "data": {
      "text/latex": [
       "$\\displaystyle \\frac{3 x \\left(k x\\right)^{1.0}}{x^{2} - \\left(k x\\right)^{2.0}} + 2$"
      ],
      "text/plain": [
       "3*x*(k*x)**1.0/(x**2 - (k*x)**2.0) + 2"
      ]
     },
     "execution_count": 61,
     "metadata": {},
     "output_type": "execute_result"
    }
   ],
   "source": [
    "e = ((3 * x * y**2) / (x**2 - y**4)) + 2\n",
    "s = e.subs(y, (k * x) ** 0.5)\n",
    "print(s)\n",
    "s.collect(x)\n",
    "s.powsimp()"
   ]
  },
  {
   "cell_type": "code",
   "execution_count": 60,
   "id": "310b9dc2",
   "metadata": {},
   "outputs": [
    {
     "name": "stdout",
     "output_type": "stream",
     "text": [
      "1\n",
      "1\n"
     ]
    }
   ],
   "source": [
    "e = sin(x**2 + y**2) / (x**2 + y**2)\n",
    "print(e.subs(y, 0).limit(x, 0, \"-\"))\n",
    "print(e.subs(y, 0).limit(x, 0, \"+\"))"
   ]
  },
  {
   "cell_type": "code",
   "execution_count": null,
   "id": "fa1c2f9d",
   "metadata": {},
   "outputs": [
    {
     "name": "stdout",
     "output_type": "stream",
     "text": [
      "oo\n",
      "-oo\n"
     ]
    }
   ],
   "source": [
    "e = tan((pi * x * exp(y)) / (3 - (exp(x * y))))\n",
    "print(e.subs(y, 0).limit(x, 1, \"-\"))\n",
    "print(e.subs(y, 0).limit(x, 1, \"+\"))"
   ]
  }
 ],
 "metadata": {
  "kernelspec": {
   "display_name": "polars_analysis",
   "language": "python",
   "name": "python3"
  },
  "language_info": {
   "codemirror_mode": {
    "name": "ipython",
    "version": 3
   },
   "file_extension": ".py",
   "mimetype": "text/x-python",
   "name": "python",
   "nbconvert_exporter": "python",
   "pygments_lexer": "ipython3",
   "version": "3.12.3"
  }
 },
 "nbformat": 4,
 "nbformat_minor": 5
}
